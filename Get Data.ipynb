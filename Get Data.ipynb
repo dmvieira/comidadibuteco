{
 "cells": [
  {
   "cell_type": "code",
   "execution_count": null,
   "id": "2f00abf4",
   "metadata": {},
   "outputs": [],
   "source": [
    "!pip install 'bs4==0.0.1' 'lxml==4.9.2' 'googlemaps==4.10.0'"
   ]
  },
  {
   "cell_type": "code",
   "execution_count": 81,
   "id": "f2c91e1d",
   "metadata": {},
   "outputs": [
    {
     "name": "stdout",
     "output_type": "stream",
     "text": [
      "no description found for 1960 bar\n",
      "no description found for 20 Busca Bar\n",
      "no description found for A Virgem Bar\n",
      "foi página 1\n",
      "no description found for Alek Bar\n",
      "no description found for Alquimia do Sabor\n",
      "foi página 2\n",
      "no description found for Armazém do Alemão\n",
      "no description found for Armazém Porto Alegre\n",
      "foi página 3\n",
      "no description found for Arrojado’s Bar\n",
      "foi página 4\n",
      "no description found for Baldhead Cervejaria e Bar\n",
      "foi página 5\n",
      "no description found for Bar Chopp Petiscos\n",
      "no description found for Bar Cruzeiro\n",
      "foi página 6\n",
      "no description found for Bar da Oma\n",
      "foi página 7\n",
      "no description found for Bar do Alemão\n",
      "foi página 8\n",
      "no description found for Bar do Cação\n",
      "no description found for Bar do Chicão\n",
      "no description found for Bar do Clebinho\n",
      "foi página 9\n",
      "foi página 10\n",
      "foi página 11\n",
      "no description found for Bar do Macário\n",
      "foi página 12\n",
      "no description found for Bar do Paulinho\n",
      "no description found for Bar do Ponce\n",
      "no description found for Bar do Rafa\n",
      "foi página 13\n",
      "foi página 14\n",
      "no description found for Bar Dodô\n",
      "foi página 15\n",
      "no description found for Bar du Barão\n",
      "no description found for Bar e Petiscaria Califórnia\n",
      "foi página 16\n",
      "no description found for Bar Frango Gaúcho\n",
      "no description found for Bar Galpão\n",
      "no description found for Bar Gato de Botas\n",
      "foi página 17\n",
      "no description found for Bar Ponto 18\n",
      "foi página 18\n",
      "no description found for Bar Suíço\n",
      "no description found for Bar Via 70\n",
      "foi página 19\n",
      "foi página 20\n",
      "no description found for Bento’s Bar\n",
      "no description found for Berlim Delícias Pra Você\n",
      "foi página 21\n",
      "no description found for Bistrô Chica Doida\n",
      "foi página 22\n",
      "no description found for Boteco Arsenal\n",
      "foi página 23\n",
      "no description found for Boteco Casa Amarela\n",
      "no description found for Boteco di Garagem\n",
      "foi página 24\n",
      "no description found for Boteco do Filhote\n",
      "no description found for Boteco do Major\n",
      "no description found for Boteco do Manelão\n",
      "foi página 25\n",
      "no description found for Boteco Gastronômico Veropinha\n",
      "foi página 26\n",
      "no description found for Boteco Ver a Cerva\n",
      "no description found for Boteco Vitória\n",
      "no description found for Botequim Empório da Cerveja\n",
      "no description found for Botequim Manda Brasa\n",
      "foi página 27\n",
      "no description found for Box 3222\n",
      "no description found for Budega Cururu\n",
      "foi página 28\n",
      "no description found for Budega Dona Francisca\n",
      "no description found for Buena Brasa\n",
      "no description found for Buteco do Baiano\n",
      "foi página 29\n",
      "no description found for Buteco do Kaká\n",
      "no description found for Buteco du Chef\n",
      "no description found for Buteko do Gordinho\n",
      "no description found for Buteko do Leozinho\n",
      "foi página 30\n",
      "no description found for Butiquim da Lara\n",
      "foi página 31\n",
      "no description found for Caladinho Bar\n",
      "no description found for Caldos & Cia Bar e Restaurante\n",
      "foi página 32\n",
      "no description found for Cantinho do Mineiro\n",
      "foi página 33\n",
      "no description found for Canto do Zé Petiscaria\n",
      "no description found for Caranguejo do Alemão\n",
      "no description found for Casa Confraria\n",
      "foi página 34\n",
      "no description found for Casarão do Pastel\n",
      "foi página 35\n",
      "no description found for Churraskim do Markim\n",
      "foi página 36\n",
      "no description found for Churrasquinho do Dedé\n",
      "no description found for Cia Mix Bar\n",
      "no description found for Clube do Espeto Grill\n",
      "foi página 37\n",
      "no description found for Confraria do Fraga\n",
      "no description found for Coronel Beer\n",
      "foi página 38\n",
      "no description found for Cumpadi Bar\n",
      "no description found for Deixe Comigo Bar\n",
      "no description found for Del Lest Bar e Conveniência\n",
      "foi página 39\n",
      "no description found for Dom Cirus\n",
      "foi página 40\n",
      "no description found for Dom Marco\n",
      "foi página 41\n",
      "no description found for Égua Du Buteco\n",
      "no description found for Eguatchê\n",
      "no description found for Empadas Jerke\n",
      "foi página 42\n",
      "foi página 43\n",
      "no description found for Espaco Gastronômico Pimenta na Cuia\n",
      "no description found for Espetaria Nelore\n",
      "no description found for Espetim da Esquina\n",
      "no description found for Espetim Miguelito\n",
      "foi página 44\n",
      "no description found for Esquina 62 Bar\n",
      "foi página 45\n",
      "foi página 46\n",
      "foi página 47\n",
      "no description found for Garagem Velha\n",
      "no description found for Gastro Bar Rota 21\n",
      "foi página 48\n",
      "no description found for Gota Azul Bar\n",
      "no description found for GPetiscos\n",
      "no description found for Gramophone Café\n",
      "no description found for Gurupi Restaurante\n",
      "foi página 49\n",
      "no description found for Humaitô Bar\n",
      "no description found for In Natura\n",
      "foi página 50\n",
      "no description found for Jajá Drinks\n",
      "no description found for Jantinha do Fabinho\n",
      "no description found for Jantinha do Lipão\n",
      "foi página 51\n",
      "no description found for Lanches Do Alemão\n",
      "foi página 52\n",
      "no description found for Lilliput Pub\n",
      "no description found for Limas Bar\n",
      "no description found for Limonata\n",
      "no description found for Long Beer\n",
      "foi página 53\n",
      "no description found for Magia do Peixe\n",
      "no description found for Marupiara Praia Bar\n",
      "foi página 54\n",
      "no description found for Michelitos Bar\n",
      "foi página 55\n",
      "no description found for Molotov BBQ\n",
      "no description found for Mormaço Bar\n",
      "foi página 56\n",
      "no description found for Nosso Bar\n",
      "foi página 57\n",
      "no description found for O Jabô Bar Jardim\n",
      "no description found for Ofertório\n",
      "foi página 58\n",
      "no description found for Old Friend Beer\n",
      "no description found for Paladar Gi\n",
      "foi página 59\n",
      "no description found for Pescador Bar\n",
      "foi página 60\n",
      "no description found for Pesqueiro São José\n",
      "no description found for Petisqueira Caxias\n",
      "no description found for Pikeno Bar e Restaurante\n",
      "foi página 61\n",
      "no description found for Piratas Lounge\n",
      "no description found for Pop’s Bar\n",
      "foi página 62\n",
      "no description found for Premium Petiscaria\n",
      "no description found for Primos Bar\n",
      "foi página 63\n",
      "no description found for Quintal Meraki\n",
      "foi página 64\n",
      "no description found for Quiosque Mack Locoo\n",
      "no description found for Rancho 55\n",
      "no description found for Rancho caseiro\n",
      "foi página 65\n",
      "no description found for Republic Bar e Bistrô\n",
      "no description found for Reserva do Mosteiro\n",
      "foi página 66\n",
      "no description found for Restaurante do Paulinho\n",
      "no description found for Rocket 07\n",
      "foi página 67\n",
      "no description found for Samburá\n",
      "no description found for Santa Cana\n",
      "foi página 68\n",
      "no description found for Sertão Xique Xique\n",
      "foi página 69\n",
      "no description found for Severina Sabor do Nordeste\n",
      "no description found for Skina 17\n",
      "foi página 70\n",
      "no description found for Só Porco Torresmo e Cia\n",
      "no description found for Sputnik Bar\n",
      "foi página 71\n",
      "no description found for Tasca do Bosque\n",
      "no description found for Tenda Árabe\n",
      "no description found for Terra Mar Bar\n",
      "no description found for Território Árabe\n",
      "foi página 72\n",
      "no description found for Tilápia na Brasa\n",
      "no description found for Timonel\n",
      "no description found for Tô no Bar\n",
      "no description found for Toca do Peba\n",
      "foi página 73\n",
      "no description found for Toka do Véi\n",
      "foi página 74\n",
      "no description found for Tulipa’s Bar\n",
      "no description found for Urban Bar\n",
      "foi página 75\n",
      "no description found for Varanda Bar e Restaurante\n",
      "no description found for Varandão da Vila\n",
      "no description found for Venda du Carmo\n",
      "foi página 76\n",
      "no description found for Vila Rica Bar e Restaurante\n",
      "no description found for Viracopos\n",
      "no description found for Wandão petiscaria\n",
      "foi página 77\n",
      "no description found for Zé Latinhas\n",
      "no description found for Zero7\n",
      "no description found for Zitos Bar e Restaurante\n",
      "foi página 78\n",
      "foi página 79\n"
     ]
    }
   ],
   "source": [
    "from bs4 import BeautifulSoup\n",
    "from urllib.request import Request, urlopen\n",
    "from urllib.parse import unquote\n",
    "import json\n",
    "import time\n",
    "import os\n",
    "import googlemaps\n",
    "\n",
    "# API key for places, directions, geocode and another to maps js\n",
    "gmaps = googlemaps.Client(key=os.environ.get(\"GOOGLE_KEY\"))\n",
    "\n",
    "locations = []\n",
    "geo = []\n",
    "names = []\n",
    "url = []\n",
    "food = []\n",
    "food_desc = []\n",
    "\n",
    "def get_google(name, query, retry=3):\n",
    "    try:\n",
    "        result = gmaps.geocode(unquote(query))\n",
    "        if len(result) > 1:\n",
    "            place = gmaps.places(unquote(name))[\"results\"]\n",
    "            if len(place) == 1:\n",
    "                result = place\n",
    "        if not result: raise Exception()\n",
    "        return result\n",
    "    except Exception as e:\n",
    "        if retry:\n",
    "            time.sleep(1)\n",
    "            return get_google(name, query, retry-1)\n",
    "        else:\n",
    "            print(f\"query error {query}\")\n",
    "            print(e)\n",
    "            return False\n",
    "\n",
    "for i in range(1, 80):\n",
    "    req = Request(f\"http://www.comidadibuteco.com.br/category/butecos/page/{i}/\")\n",
    "    html_page = urlopen(req)\n",
    "\n",
    "    soup = BeautifulSoup(html_page, \"lxml\")\n",
    "\n",
    "    inner = soup.findAll('div', {\"class\": \"result-inner\"})\n",
    "    for div in inner:\n",
    "        name = div.find('h2').text\n",
    "        links = div.findAll('a')\n",
    "        if name and (len(links) == 2):\n",
    "            u = links[0].get('href')\n",
    "            r = Request(u)\n",
    "            html_bar = urlopen(r)\n",
    "            s = BeautifulSoup(html_bar, \"lxml\")\n",
    "            data = s.find('section', {\"class\": \"mecanica\"})\n",
    "            ps = data.find('div', {'class': 'text-left'}).findAll('p')\n",
    "            addr = False\n",
    "            for p in ps:\n",
    "                if \"Endereço\" in p.text:\n",
    "                    addr = p\n",
    "            if not addr:\n",
    "                print(f\"no addr found for {name}\")\n",
    "                continue\n",
    "            geocode_result = get_google(name, \", \".join(addr.text.split(\"Endereço:\")[1:]).strip())\n",
    "            if geocode_result:\n",
    "                geo.append(geocode_result[0][\"geometry\"][\"location\"])\n",
    "            else:\n",
    "                print(f\"no place found for {name}\")\n",
    "                geo.append({})\n",
    "            url.append(u)\n",
    "            names.append(name)\n",
    "            flist = ps[0].get_text(separator='|br|', strip=True).split('|br|')\n",
    "            food.append(flist[0])\n",
    "            if len(flist) > 1:\n",
    "                food_desc.append(flist[1])\n",
    "            else:\n",
    "                print(f\"no description found for {name}\")\n",
    "                food_desc.append(\"\")\n",
    "\n",
    "        else:\n",
    "            continue\n",
    "    print(f\"foi página {i}\")\n",
    "    time.sleep(10)\n",
    "for i in range(len(names)):\n",
    "    locations.append({\n",
    "        \"name\": names[i],\n",
    "        \"geo\": geo[i],\n",
    "        \"url\": url[i],\n",
    "        \"food\": food[i],\n",
    "        \"food_desc\": food_desc[i]\n",
    "    })"
   ]
  },
  {
   "cell_type": "code",
   "execution_count": 82,
   "id": "ad2d3097",
   "metadata": {},
   "outputs": [],
   "source": [
    "with open(\"places.json\", \"w\") as f:\n",
    "    f.write(json.dumps(locations, ensure_ascii=False))"
   ]
  },
  {
   "cell_type": "code",
   "execution_count": 83,
   "id": "8a2610e0",
   "metadata": {},
   "outputs": [
    {
     "data": {
      "text/plain": [
       "937"
      ]
     },
     "execution_count": 83,
     "metadata": {},
     "output_type": "execute_result"
    }
   ],
   "source": [
    "len(names)"
   ]
  },
  {
   "cell_type": "code",
   "execution_count": 84,
   "id": "707d3fb6",
   "metadata": {},
   "outputs": [
    {
     "data": {
      "text/plain": [
       "937"
      ]
     },
     "execution_count": 84,
     "metadata": {},
     "output_type": "execute_result"
    }
   ],
   "source": [
    "len(geo)"
   ]
  },
  {
   "cell_type": "code",
   "execution_count": 85,
   "id": "ad1c9b1c",
   "metadata": {},
   "outputs": [
    {
     "data": {
      "text/plain": [
       "937"
      ]
     },
     "execution_count": 85,
     "metadata": {},
     "output_type": "execute_result"
    }
   ],
   "source": [
    "len(url)"
   ]
  },
  {
   "cell_type": "code",
   "execution_count": 86,
   "id": "7b886ee7",
   "metadata": {},
   "outputs": [
    {
     "data": {
      "text/plain": [
       "937"
      ]
     },
     "execution_count": 86,
     "metadata": {},
     "output_type": "execute_result"
    }
   ],
   "source": [
    "len(food)"
   ]
  },
  {
   "cell_type": "code",
   "execution_count": 87,
   "id": "457631b5",
   "metadata": {},
   "outputs": [
    {
     "data": {
      "text/plain": [
       "937"
      ]
     },
     "execution_count": 87,
     "metadata": {},
     "output_type": "execute_result"
    }
   ],
   "source": [
    "len(food_desc)"
   ]
  },
  {
   "cell_type": "code",
   "execution_count": 88,
   "id": "ed280da1",
   "metadata": {},
   "outputs": [
    {
     "data": {
      "text/plain": [
       "937"
      ]
     },
     "execution_count": 88,
     "metadata": {},
     "output_type": "execute_result"
    }
   ],
   "source": [
    "len(list(filter(lambda item: bool(item), geo)))"
   ]
  },
  {
   "cell_type": "code",
   "execution_count": null,
   "id": "0510c081",
   "metadata": {},
   "outputs": [],
   "source": []
  },
  {
   "cell_type": "code",
   "execution_count": null,
   "id": "7daa523b",
   "metadata": {},
   "outputs": [],
   "source": []
  }
 ],
 "metadata": {
  "kernelspec": {
   "display_name": "Python 3 (ipykernel)",
   "language": "python",
   "name": "python3"
  },
  "language_info": {
   "codemirror_mode": {
    "name": "ipython",
    "version": 3
   },
   "file_extension": ".py",
   "mimetype": "text/x-python",
   "name": "python",
   "nbconvert_exporter": "python",
   "pygments_lexer": "ipython3",
   "version": "3.10.6"
  }
 },
 "nbformat": 4,
 "nbformat_minor": 5
}
