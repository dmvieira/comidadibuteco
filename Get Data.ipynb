{
 "cells": [
  {
   "cell_type": "code",
   "execution_count": null,
   "id": "2f00abf4",
   "metadata": {},
   "outputs": [],
   "source": [
    "!pip install 'bs4==0.0.1' 'lxml==4.9.2' 'googlemaps==4.10.0'"
   ]
  },
  {
   "cell_type": "code",
   "execution_count": 23,
   "id": "f2c91e1d",
   "metadata": {},
   "outputs": [],
   "source": [
    "from bs4 import BeautifulSoup\n",
    "from urllib.request import Request, urlopen\n",
    "import json\n",
    "import time\n",
    "import os\n",
    "import googlemaps\n",
    "\n",
    "# API key for places, directions, geocode and another to maps js\n",
    "gmaps = googlemaps.Client(key=os.environ.get(\"GOOGLE_KEY\"))\n",
    "\n",
    "locations = []\n",
    "geo = []\n",
    "names = []\n",
    "\n",
    "def get_google(query, retry=3):\n",
    "    try:\n",
    "        return gmaps.geocode(query)\n",
    "    except Exception as e:\n",
    "        if retry:\n",
    "            time.sleep(1)\n",
    "            return get_google(query, retry-1)\n",
    "        else:\n",
    "            print(f\"query error {query}\")\n",
    "            print(e)\n",
    "            return False\n",
    "\n",
    "for i in range(1, 80):\n",
    "    req = Request(f\"http://www.comidadibuteco.com.br/category/butecos/page/{i}/\")\n",
    "    html_page = urlopen(req)\n",
    "\n",
    "    soup = BeautifulSoup(html_page, \"lxml\")\n",
    "\n",
    "    inner = soup.findAll('div', {\"class\": \"result-inner\"})\n",
    "    for div in inner:\n",
    "        for link in div.findAll('a'):\n",
    "            href = link.get('href')\n",
    "            if href.startswith('https://www.google.com/maps/search/?api='):\n",
    "                geocode_result = get_google(href.split(\"query=\")[1])\n",
    "                if geocode_result:\n",
    "                    geo.append(geocode_result[0][\"geometry\"][\"location\"])\n",
    "                else:\n",
    "                    geo.append({})\n",
    "                break\n",
    "        names.append(div.find('h2').text)\n",
    "    print(f\"foi página {i}\")\n",
    "    time.sleep(10)\n",
    "for i in range(len(names)):\n",
    "    locations.append({\n",
    "        \"name\": names[i],\n",
    "        \"geo\": geo[i]\n",
    "    })"
   ]
  },
  {
   "cell_type": "code",
   "execution_count": 28,
   "id": "ad2d3097",
   "metadata": {},
   "outputs": [],
   "source": [
    "with open(\"places.json\", \"w\") as f:\n",
    "    f.write(json.dumps(locations, ensure_ascii=False))"
   ]
  },
  {
   "cell_type": "code",
   "execution_count": 24,
   "id": "8a2610e0",
   "metadata": {},
   "outputs": [
    {
     "data": {
      "text/plain": [
       "941"
      ]
     },
     "execution_count": 24,
     "metadata": {},
     "output_type": "execute_result"
    }
   ],
   "source": [
    "len(names)"
   ]
  },
  {
   "cell_type": "code",
   "execution_count": 25,
   "id": "707d3fb6",
   "metadata": {},
   "outputs": [
    {
     "data": {
      "text/plain": [
       "941"
      ]
     },
     "execution_count": 25,
     "metadata": {},
     "output_type": "execute_result"
    }
   ],
   "source": [
    "len(geo)"
   ]
  },
  {
   "cell_type": "code",
   "execution_count": null,
   "id": "ad1c9b1c",
   "metadata": {},
   "outputs": [],
   "source": []
  }
 ],
 "metadata": {
  "kernelspec": {
   "display_name": "Python 3 (ipykernel)",
   "language": "python",
   "name": "python3"
  },
  "language_info": {
   "codemirror_mode": {
    "name": "ipython",
    "version": 3
   },
   "file_extension": ".py",
   "mimetype": "text/x-python",
   "name": "python",
   "nbconvert_exporter": "python",
   "pygments_lexer": "ipython3",
   "version": "3.10.6"
  }
 },
 "nbformat": 4,
 "nbformat_minor": 5
}
