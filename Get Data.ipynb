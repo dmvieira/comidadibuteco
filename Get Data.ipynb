{
 "cells": [
  {
   "cell_type": "code",
   "execution_count": null,
   "id": "2f00abf4",
   "metadata": {},
   "outputs": [],
   "source": [
    "!pip install 'bs4==0.0.1' 'lxml==4.9.2' 'googlemaps==4.10.0'"
   ]
  },
  {
   "cell_type": "code",
   "execution_count": 58,
   "id": "f2c91e1d",
   "metadata": {},
   "outputs": [
    {
     "name": "stdout",
     "output_type": "stream",
     "text": [
      "foi página 1\n",
      "foi página 2\n",
      "foi página 3\n",
      "foi página 4\n",
      "foi página 5\n",
      "foi página 6\n",
      "foi página 7\n",
      "foi página 8\n",
      "foi página 9\n",
      "foi página 10\n",
      "foi página 11\n",
      "foi página 12\n",
      "foi página 13\n",
      "foi página 14\n",
      "foi página 15\n",
      "foi página 16\n",
      "foi página 17\n",
      "foi página 18\n",
      "foi página 19\n",
      "foi página 20\n",
      "foi página 21\n",
      "foi página 22\n",
      "foi página 23\n",
      "foi página 24\n",
      "foi página 25\n",
      "foi página 26\n",
      "foi página 27\n",
      "foi página 28\n",
      "foi página 29\n",
      "foi página 30\n",
      "foi página 31\n",
      "foi página 32\n",
      "foi página 33\n",
      "foi página 34\n",
      "foi página 35\n",
      "foi página 36\n",
      "foi página 37\n",
      "foi página 38\n",
      "foi página 39\n",
      "foi página 40\n",
      "foi página 41\n",
      "foi página 42\n",
      "foi página 43\n",
      "foi página 44\n",
      "foi página 45\n",
      "foi página 46\n",
      "foi página 47\n",
      "foi página 48\n",
      "foi página 49\n",
      "foi página 50\n",
      "foi página 51\n",
      "foi página 52\n",
      "foi página 53\n",
      "foi página 54\n",
      "foi página 55\n",
      "foi página 56\n",
      "foi página 57\n",
      "foi página 58\n",
      "foi página 59\n",
      "foi página 60\n",
      "foi página 61\n",
      "foi página 62\n",
      "foi página 63\n",
      "foi página 64\n",
      "foi página 65\n",
      "foi página 66\n",
      "foi página 67\n",
      "foi página 68\n",
      "foi página 69\n",
      "foi página 70\n",
      "foi página 71\n",
      "foi página 72\n",
      "foi página 73\n",
      "foi página 74\n",
      "foi página 75\n",
      "foi página 76\n",
      "foi página 77\n",
      "foi página 78\n",
      "foi página 79\n"
     ]
    }
   ],
   "source": [
    "from bs4 import BeautifulSoup\n",
    "from urllib.request import Request, urlopen\n",
    "from urllib.parse import unquote\n",
    "import json\n",
    "import time\n",
    "import os\n",
    "import googlemaps\n",
    "\n",
    "# API key for places, directions, geocode and another to maps js\n",
    "gmaps = googlemaps.Client(key=os.environ.get(\"GOOGLE_KEY\"))\n",
    "\n",
    "locations = []\n",
    "geo = []\n",
    "names = []\n",
    "url = []\n",
    "\n",
    "def get_google(query, retry=3):\n",
    "    try:\n",
    "        result = gmaps.geocode(unquote(query))\n",
    "        if not result: raise Exception()\n",
    "        return result\n",
    "    except Exception as e:\n",
    "        try:\n",
    "            result = gmaps.places(unquote(query))[\"results\"]\n",
    "            if not result: raise Exception()\n",
    "            return result\n",
    "        except Exception as e:\n",
    "            if retry:\n",
    "                time.sleep(1)\n",
    "                return get_google(query, retry-1)\n",
    "            else:\n",
    "                print(f\"query error {query}\")\n",
    "                print(e)\n",
    "                return False\n",
    "\n",
    "for i in range(1, 80):\n",
    "    req = Request(f\"http://www.comidadibuteco.com.br/category/butecos/page/{i}/\")\n",
    "    html_page = urlopen(req)\n",
    "\n",
    "    soup = BeautifulSoup(html_page, \"lxml\")\n",
    "\n",
    "    inner = soup.findAll('div', {\"class\": \"result-inner\"})\n",
    "    for div in inner:\n",
    "        name = div.find('h2').text\n",
    "        links = div.findAll('a')\n",
    "        if name and (len(links) == 2):\n",
    "            href = links[1].get('href')\n",
    "            if href.startswith('https://www.google.com/maps/search/?api='):\n",
    "                geocode_result = get_google(href.split(\"query=\")[1] or name)\n",
    "                if geocode_result:\n",
    "                    geo.append(geocode_result[0][\"geometry\"][\"location\"])\n",
    "                else:\n",
    "                    print(f\"no place found for {name}\")\n",
    "                    geo.append({})\n",
    "\n",
    "            else:\n",
    "                continue\n",
    "            url.append(links[0].get('href'))\n",
    "            names.append(name)\n",
    "\n",
    "        else:\n",
    "            continue\n",
    "    print(f\"foi página {i}\")\n",
    "    time.sleep(10)\n",
    "for i in range(len(names)):\n",
    "    locations.append({\n",
    "        \"name\": names[i],\n",
    "        \"geo\": geo[i],\n",
    "        \"url\": url[i]\n",
    "    })"
   ]
  },
  {
   "cell_type": "code",
   "execution_count": 62,
   "id": "ad2d3097",
   "metadata": {},
   "outputs": [],
   "source": [
    "with open(\"places.json\", \"w\") as f:\n",
    "    f.write(json.dumps(locations, ensure_ascii=False))"
   ]
  },
  {
   "cell_type": "code",
   "execution_count": 59,
   "id": "8a2610e0",
   "metadata": {},
   "outputs": [
    {
     "data": {
      "text/plain": [
       "939"
      ]
     },
     "execution_count": 59,
     "metadata": {},
     "output_type": "execute_result"
    }
   ],
   "source": [
    "len(names)"
   ]
  },
  {
   "cell_type": "code",
   "execution_count": 60,
   "id": "707d3fb6",
   "metadata": {},
   "outputs": [
    {
     "data": {
      "text/plain": [
       "939"
      ]
     },
     "execution_count": 60,
     "metadata": {},
     "output_type": "execute_result"
    }
   ],
   "source": [
    "len(geo)"
   ]
  },
  {
   "cell_type": "code",
   "execution_count": 61,
   "id": "ad1c9b1c",
   "metadata": {},
   "outputs": [
    {
     "data": {
      "text/plain": [
       "939"
      ]
     },
     "execution_count": 61,
     "metadata": {},
     "output_type": "execute_result"
    }
   ],
   "source": [
    "len(url)"
   ]
  },
  {
   "cell_type": "code",
   "execution_count": 82,
   "id": "94486507",
   "metadata": {},
   "outputs": [
    {
     "data": {
      "text/plain": [
       "939"
      ]
     },
     "execution_count": 82,
     "metadata": {},
     "output_type": "execute_result"
    }
   ],
   "source": [
    "len(list(filter(lambda item: bool(item), geo)))"
   ]
  },
  {
   "cell_type": "code",
   "execution_count": null,
   "id": "05c954e3",
   "metadata": {},
   "outputs": [],
   "source": []
  }
 ],
 "metadata": {
  "kernelspec": {
   "display_name": "Python 3 (ipykernel)",
   "language": "python",
   "name": "python3"
  },
  "language_info": {
   "codemirror_mode": {
    "name": "ipython",
    "version": 3
   },
   "file_extension": ".py",
   "mimetype": "text/x-python",
   "name": "python",
   "nbconvert_exporter": "python",
   "pygments_lexer": "ipython3",
   "version": "3.10.6"
  }
 },
 "nbformat": 4,
 "nbformat_minor": 5
}
